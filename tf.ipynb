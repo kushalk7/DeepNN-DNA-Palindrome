{
 "cells": [
  {
   "cell_type": "code",
   "execution_count": 1,
   "metadata": {
    "collapsed": true
   },
   "outputs": [],
   "source": [
    "import numpy as np\n",
    "\n",
    "x = np.zeros((40,1000))"
   ]
  },
  {
   "cell_type": "code",
   "execution_count": 3,
   "metadata": {},
   "outputs": [
    {
     "data": {
      "text/plain": [
       "(40, 1000)"
      ]
     },
     "execution_count": 3,
     "metadata": {},
     "output_type": "execute_result"
    }
   ],
   "source": [
    "x.shape"
   ]
  },
  {
   "cell_type": "code",
   "execution_count": 12,
   "metadata": {
    "collapsed": true
   },
   "outputs": [],
   "source": [
    "y = x[:,0:100]"
   ]
  },
  {
   "cell_type": "code",
   "execution_count": 13,
   "metadata": {},
   "outputs": [
    {
     "data": {
      "text/plain": [
       "(40, 100)"
      ]
     },
     "execution_count": 13,
     "metadata": {},
     "output_type": "execute_result"
    }
   ],
   "source": [
    "y.shape"
   ]
  },
  {
   "cell_type": "code",
   "execution_count": 5,
   "metadata": {},
   "outputs": [],
   "source": [
    "'''\n",
    "python sticky_snippet_net.py mode model_file data_folder\n",
    "'''\n",
    "\n",
    "import os\n",
    "import sys\n",
    "import tensorflow as tf\n",
    "import numpy as np\n",
    "import string\n",
    "\n",
    "#global variables\n",
    "mode_fun = None\n",
    "model_file = None\n",
    "data_folder = None\n",
    "dir_path = os.path.dirname(os.path.realpath('__file__'))\n",
    "count_nonstick = 0\n",
    "count_12 = 0\n",
    "count_34 = 0\n",
    "count_56 = 0\n",
    "count_78 = 0\n",
    "count_stick = 0\n",
    "learning_rate = 0.5\n",
    "\n",
    "one_hot_dict = {\n",
    "    \"12-STICKY\": 0,\n",
    "    \"34-STICKY\": 1,\n",
    "    \"56-STICKY\": 2,\n",
    "    \"78-STICKY\": 3,\n",
    "    \"STICK_PALINDROME\": 4,\n",
    "    \"NONSTICK\": 5,\n",
    "}\n",
    "\n",
    "def matches(a, b):\n",
    "    if (a == 'A' and b == 'C') or (a == 'C' and b == 'A'):\n",
    "        return 1\n",
    "    if (a == 'B' and b == 'D') or (a == 'D' and b == 'B'):\n",
    "        return 1\n",
    "    return 0\n",
    "\n",
    "\n",
    "def get_label(dna):\n",
    "    global count_12, count_34, count_56, count_78, count_nonstick, count_stick\n",
    "    k = 0\n",
    "    if not matches(dna[k],dna[-1]):\n",
    "        count_nonstick += 1\n",
    "        return \"NONSTICK\"\n",
    "\n",
    "    while matches(dna[k],dna[-k-1]) and k < 20:\n",
    "        k += 1\n",
    "\n",
    "    if k == 1 or k == 2:\n",
    "        count_12 += 1\n",
    "        return \"12-STICKY\"\n",
    "    if k == 3 or k == 4:\n",
    "        count_34 += 1\n",
    "        return \"34-STICKY\"\n",
    "    if k == 5 or k == 6:\n",
    "        count_56 += 1\n",
    "        return \"56-STICKY\"\n",
    "    if (k == 7 or k == 8) and k < 20 :\n",
    "        count_78 += 1\n",
    "        return \"78-STICKY\"\n",
    "    count_stick += 1\n",
    "    return \"STICK_PALINDROME\"\n",
    "\n",
    "\n",
    "def one_hot_encoding(label):\n",
    "    y_data = np.zeros((6,), dtype=np.int)\n",
    "    y_data[one_hot_dict[label]] = 1\n",
    "    return y_data"
   ]
  },
  {
   "cell_type": "code",
   "execution_count": 6,
   "metadata": {
    "collapsed": true
   },
   "outputs": [],
   "source": [
    "def translate(x):\n",
    "    inp = \"ABCD\"\n",
    "    out = \"1234\"\n",
    "    s = string.translate(x, string.maketrans(inp,out))\n",
    "    x_vec = [float(i) for i in s]\n",
    "    # print \"x_vec: \",x_vec\n",
    "    return x_vec"
   ]
  },
  {
   "cell_type": "code",
   "execution_count": 20,
   "metadata": {
    "collapsed": true
   },
   "outputs": [],
   "source": [
    "def read_data():\n",
    "    x = []\n",
    "    y = []\n",
    "    folder_path = os.path.join(dir_path, data_folder)\n",
    "    if not os.path.isdir(folder_path):\n",
    "        raise ValueError('FOLDER NOT FOUND')\n",
    "    files = [f for f in os.listdir(folder_path) if os.path.isfile(os.path.join(folder_path, f))]\n",
    "    if not files:\n",
    "        raise ValueError('NO DATA')\n",
    "    for f in files:\n",
    "        filename = os.path.join(folder_path, f)\n",
    "        # Check if file is a text file\n",
    "        if filename.endswith('.txt'):\n",
    "            filedata = open(filename,'r')\n",
    "        else:\n",
    "            continue\n",
    "\n",
    "        for line in filedata:\n",
    "            line = line.strip('\\n')\n",
    "            if len(line) != 40:\n",
    "                continue\n",
    "            # print line\n",
    "            x_data = translate(line)\n",
    "            # print \"x_data: \",x_data\n",
    "            # break\n",
    "            y_data = one_hot_encoding(get_label(line))\n",
    "            x.append(x_data)\n",
    "            y.append(y_data)\n",
    "\n",
    "    return np.transpose(x), np.transpose(y)"
   ]
  },
  {
   "cell_type": "code",
   "execution_count": 8,
   "metadata": {
    "collapsed": true
   },
   "outputs": [],
   "source": [
    "def perceptron(w_name, w_shape, input, b_name, b_shape, init):\n",
    "    W = tf.get_variable(w_name, shape=w_shape, initializer=init)\n",
    "    b = tf.get_variable(b_name, shape=b_shape, initializer=init)\n",
    "    # print \"x: \",input.shape, \" W: \", w_shape, \" b: \", b_shape\n",
    "    return tf.nn.relu(tf.matmul(W, input) + b)"
   ]
  },
  {
   "cell_type": "code",
   "execution_count": 9,
   "metadata": {
    "collapsed": true
   },
   "outputs": [],
   "source": [
    "def nn():\n",
    "\n",
    "    init = tf.contrib.layers.xavier_initializer()\n",
    "    x = tf.placeholder(dtype=tf.float32, shape=(40, None))\n",
    "    y = tf.placeholder(dtype=tf.float32, shape=(6, None))\n",
    "    # layer 1\n",
    "    y1 = perceptron(\"W1\", (6, 40), x, \"b1\", (6, 1), init)\n",
    "\n",
    "    # layer 2\n",
    "    y2 = perceptron(\"W2\", (6, 6), y1, \"b2\", (6, 1), init)\n",
    "\n",
    "    # layer 3\n",
    "    y3 = perceptron(\"W3\", (6, 6), y2, \"b3\", (6, 1), init)\n",
    "\n",
    "    # layer 4\n",
    "    y4 = perceptron(\"W4\", (6, 6), y3, \"b4\", (6, 1), init)\n",
    "\n",
    "    # layer 5 (output)\n",
    "    # W = tf.get_variable(\"W3\", shape=(6, 10), initializer=init)\n",
    "    # b = tf.get_variable(\"b3\", shape=(10, 1), initializer=init)\n",
    "    # y5 = tf.matmul(W, y4) + b\n",
    "\n",
    "    cross_entropy_loss = tf.reduce_mean(tf.nn.softmax_cross_entropy_with_logits(labels=y, logits=y4))  ##reduce_sum\n",
    "    train_step = tf.train.GradientDescentOptimizer(learning_rate).minimize(cross_entropy_loss)\n",
    "    return train_step, x, y"
   ]
  },
  {
   "cell_type": "code",
   "execution_count": 10,
   "metadata": {
    "collapsed": true
   },
   "outputs": [],
   "source": [
    "def training():\n",
    "    x_data, x_label = read_data()\n",
    "    total = np.shape(x_data)[0]\n",
    "    train, x, y = nn()\n",
    "    print \"x: \", np.shape(x_data)\n",
    "    session = tf.Session()\n",
    "    session.run(tf.global_variables_initializer())\n",
    "    for i in range(0, total, 1000):\n",
    "        end = i+1000\n",
    "        batch = x_data[:, i:end]\n",
    "        y_ = x_label[:, i:end]\n",
    "        print \"batch: \", np.shape(batch)\n",
    "        session.run(train,feed_dict={x: batch, y: y_}) #feed_dict=\n",
    "    saver = tf.train.Saver()\n",
    "    saver.save(session, model_file)\n",
    "    return 0"
   ]
  },
  {
   "cell_type": "code",
   "execution_count": 11,
   "metadata": {
    "collapsed": true
   },
   "outputs": [],
   "source": [
    "def fivefold_training():\n",
    "    return 0\n",
    "\n",
    "\n",
    "def testing():\n",
    "    return 0"
   ]
  },
  {
   "cell_type": "code",
   "execution_count": 12,
   "metadata": {
    "collapsed": true
   },
   "outputs": [],
   "source": [
    "mode = {\n",
    "    \"train\": training,\n",
    "    \"5fold\": fivefold_training,\n",
    "    \"test\": testing\n",
    "}\n",
    "\n",
    "\n",
    "def print_help():\n",
    "    print \"python sticky_snippet_net.py mode model_file data_folder\"\n",
    "\n",
    "\n",
    "def parse_args():\n",
    "    print sys.argv\n",
    "    global mode_fun, model_file, data_folder\n",
    "    mode_fun = mode[sys.argv[1]]\n",
    "    model_file = str(sys.argv[2])\n",
    "    data_folder = str(sys.argv[3])"
   ]
  },
  {
   "cell_type": "code",
   "execution_count": 13,
   "metadata": {
    "collapsed": true
   },
   "outputs": [],
   "source": [
    "# read_data()\n",
    "# mode_fun()\n",
    "\n"
   ]
  },
  {
   "cell_type": "code",
   "execution_count": 21,
   "metadata": {},
   "outputs": [],
   "source": [
    "model_file = \"model_file\"\n",
    "data_folder = 'data'\n",
    "\n",
    "x_data, x_label = read_data()"
   ]
  },
  {
   "cell_type": "code",
   "execution_count": 22,
   "metadata": {},
   "outputs": [],
   "source": [
    "total = np.shape(x_data)[0]"
   ]
  },
  {
   "cell_type": "code",
   "execution_count": 23,
   "metadata": {},
   "outputs": [
    {
     "name": "stdout",
     "output_type": "stream",
     "text": [
      "x:  (40, 10000)\n"
     ]
    }
   ],
   "source": [
    "train, x, y = nn()\n",
    "print \"x: \", np.shape(x_data)\n",
    "session = tf.Session()\n",
    "session.run(tf.global_variables_initializer())"
   ]
  },
  {
   "cell_type": "code",
   "execution_count": 27,
   "metadata": {},
   "outputs": [
    {
     "name": "stdout",
     "output_type": "stream",
     "text": [
      "batch:  (40, 1000)\n"
     ]
    }
   ],
   "source": [
    "for i in range(0, total, 1000):\n",
    "    end = i+1000\n",
    "    batch = x_data[:, i:end]\n",
    "    y_ = x_label[:, i:end]\n",
    "    print \"batch: \", np.shape(batch)\n",
    "    session.run(train,feed_dict={x: batch, y: y_}) #feed_dict=\n",
    "# saver = tf.train.Saver()\n",
    "# saver.save(session, model_file)"
   ]
  },
  {
   "cell_type": "code",
   "execution_count": 4,
   "metadata": {},
   "outputs": [
    {
     "data": {
      "text/plain": [
       "'/Users/kushal/Study/AI Chris Pollet/Assignment 3'"
      ]
     },
     "execution_count": 4,
     "metadata": {},
     "output_type": "execute_result"
    }
   ],
   "source": [
    "os.path.dirname(os.path.realpath('__file__'))"
   ]
  },
  {
   "cell_type": "code",
   "execution_count": 25,
   "metadata": {},
   "outputs": [
    {
     "name": "stdout",
     "output_type": "stream",
     "text": [
      "batch:  (40, 1000)  y_:  (6, 1000)\n"
     ]
    }
   ],
   "source": [
    "batch = x_data[:, 0:1000]\n",
    "y_ = x_label[:, 0:1000]\n",
    "print \"batch: \", np.shape(batch), \" y_: \", np.shape(y_)"
   ]
  },
  {
   "cell_type": "code",
   "execution_count": 26,
   "metadata": {
    "collapsed": true
   },
   "outputs": [],
   "source": [
    "\n",
    "session.run(train,feed_dict={x: batch, y: y_})"
   ]
  },
  {
   "cell_type": "code",
   "execution_count": null,
   "metadata": {
    "collapsed": true
   },
   "outputs": [],
   "source": []
  }
 ],
 "metadata": {
  "kernelspec": {
   "display_name": "Python 2",
   "language": "python",
   "name": "python2"
  },
  "language_info": {
   "codemirror_mode": {
    "name": "ipython",
    "version": 2
   },
   "file_extension": ".py",
   "mimetype": "text/x-python",
   "name": "python",
   "nbconvert_exporter": "python",
   "pygments_lexer": "ipython2",
   "version": "2.7.13"
  }
 },
 "nbformat": 4,
 "nbformat_minor": 2
}
